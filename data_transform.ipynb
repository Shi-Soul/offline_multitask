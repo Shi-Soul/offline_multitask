{
 "cells": [
  {
   "cell_type": "code",
   "execution_count": 8,
   "metadata": {},
   "outputs": [],
   "source": [
    "import numpy as np\n",
    "import glob\n",
    "\n",
    "# For each episode, we should load it, find the key named 'action' and 'reward'\n",
    "# remove the first element of them, and pad 0 at the end of this episode\n",
    "# Then, we should write it back to the file\n",
    "\n",
    "def process_data(in_data_path,out_data_path):\n",
    "    epss = sorted(glob.glob(f'{in_data_path}/*.npz'))\n",
    "    for eps in epss:\n",
    "        with open(eps, 'rb') as f:\n",
    "            episode = np.load(f)\n",
    "            episode = {k: episode[k] for k in episode.keys()}\n",
    "            # print(episode.keys())\n",
    "            # print([(key, val.shape) for key,val in episode.items()])\n",
    "            action = episode['action']\n",
    "            reward = episode['reward']\n",
    "            episode['action'] = np.concatenate([action[1:],np.zeros((1, action.shape[1]))], axis=0)\n",
    "            episode['reward'] = np.concatenate([reward[1:],np.zeros((1, reward.shape[1]))], axis=0)\n",
    "            # print([(key, val.shape) for key,val in episode.items()])\n",
    "            np.savez(f'{out_data_path}/{eps.split(\"/\")[-1]}', **episode)\n",
    "            # print(f'{out_data_path}/{eps.split(\"/\")[-1]}')\n",
    "\n",
    "\n",
    "\n",
    "process_data(\"collected_data_old/walker_run-td3-medium/data\",\"collected_data/walker_run-td3-medium/data\")\n",
    "process_data(\"collected_data_old/walker_walk-td3-medium/data\",\"collected_data/walker_walk-td3-medium/data\")\n",
    "process_data(\"collected_data_old/walker_run-td3-medium-replay/data\",\"collected_data/walker_run-td3-medium-replay/data\")\n",
    "process_data(\"collected_data_old/walker_walk-td3-medium-replay/data\",\"collected_data/walker_walk-td3-medium-replay/data\")"
   ]
  },
  {
   "cell_type": "code",
   "execution_count": null,
   "metadata": {},
   "outputs": [
    {
     "ename": "",
     "evalue": "",
     "output_type": "error",
     "traceback": [
      "\u001b[1;31mRunning cells with 'rlp_cu11' requires the ipykernel package.\n",
      "\u001b[1;31mRun the following command to install 'ipykernel' into the Python environment. \n",
      "\u001b[1;31mCommand: 'conda install -n rlp_cu11 ipykernel --update-deps --force-reinstall'"
     ]
    }
   ],
   "source": []
  }
 ],
 "metadata": {
  "kernelspec": {
   "display_name": "rlp",
   "language": "python",
   "name": "python3"
  },
  "language_info": {
   "codemirror_mode": {
    "name": "ipython",
    "version": 3
   },
   "file_extension": ".py",
   "mimetype": "text/x-python",
   "name": "python",
   "nbconvert_exporter": "python",
   "pygments_lexer": "ipython3",
   "version": "3.10.14"
  }
 },
 "nbformat": 4,
 "nbformat_minor": 2
}
